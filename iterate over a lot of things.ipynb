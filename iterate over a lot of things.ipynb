{
 "cells": [
  {
   "cell_type": "code",
   "execution_count": 1,
   "metadata": {},
   "outputs": [],
   "source": [
    "import pandas as pd\n",
    "import matplotlib.pyplot as plt\n",
    "%matplotlib inline\n",
    "import numpy as np\n",
    "from sklearn.model_selection import train_test_split\n",
    "from sklearn.ensemble import RandomForestClassifier\n",
    "from sklearn.model_selection import GridSearchCV\n",
    "from sklearn.preprocessing import StandardScaler\n",
    "import os\n",
    "from scipy.signal import welch"
   ]
  },
  {
   "cell_type": "code",
   "execution_count": 2,
   "metadata": {},
   "outputs": [],
   "source": [
    "folder='EMG_data_for_gestures-master'\n",
    "dirlist = os.listdir(folder)\n",
    "dirlist.remove('README.txt')\n",
    "l = []\n",
    "order=[]\n",
    "for dirn in dirlist:\n",
    "    for file in os.listdir(folder + '/' + dirn):\n",
    "        df = pd.read_csv(folder + '/' + dirn + '/' + file, sep='\\t')\n",
    "        l.append(df)\n",
    "        order.append((dirn,file))\n",
    "#trash dataframe (inconsistent labeling, jeapordizes data integrity)\n",
    "l.pop(63)\n",
    "order.pop(63)\n",
    "gestdict={\n",
    "1 : 'hand at rest', \n",
    "2 : 'hand clenched in a fist', \n",
    "3 : 'wrist flexion',\n",
    "4 : 'wrist extension',\n",
    "5 : 'radial deviations',\n",
    "6 : 'ulnar deviations'}"
   ]
  },
  {
   "cell_type": "code",
   "execution_count": 3,
   "metadata": {},
   "outputs": [],
   "source": [
    "# Remove non-gesture data\n",
    "def only_gestures(df):\n",
    "    df=df[~df['class'].isin([0,7])]\n",
    "    return df"
   ]
  },
  {
   "cell_type": "code",
   "execution_count": 5,
   "metadata": {
    "collapsed": true
   },
   "outputs": [
    {
     "name": "stderr",
     "output_type": "stream",
     "text": [
      "/home/poxlox/anaconda3/lib/python3.7/site-packages/scipy/signal/spectral.py:1969: UserWarning: nperseg = 256 is greater than input length  = 132, using nperseg = 132\n",
      "  .format(nperseg, input_length))\n",
      "/home/poxlox/anaconda3/lib/python3.7/site-packages/scipy/signal/spectral.py:1969: UserWarning: nperseg = 256 is greater than input length  = 142, using nperseg = 142\n",
      "  .format(nperseg, input_length))\n",
      "/home/poxlox/anaconda3/lib/python3.7/site-packages/scipy/signal/spectral.py:1969: UserWarning: nperseg = 256 is greater than input length  = 120, using nperseg = 120\n",
      "  .format(nperseg, input_length))\n",
      "/home/poxlox/anaconda3/lib/python3.7/site-packages/scipy/signal/spectral.py:1969: UserWarning: nperseg = 256 is greater than input length  = 124, using nperseg = 124\n",
      "  .format(nperseg, input_length))\n",
      "/home/poxlox/anaconda3/lib/python3.7/site-packages/scipy/signal/spectral.py:1969: UserWarning: nperseg = 256 is greater than input length  = 113, using nperseg = 113\n",
      "  .format(nperseg, input_length))\n",
      "/home/poxlox/anaconda3/lib/python3.7/site-packages/scipy/signal/spectral.py:1969: UserWarning: nperseg = 256 is greater than input length  = 135, using nperseg = 135\n",
      "  .format(nperseg, input_length))\n",
      "/home/poxlox/anaconda3/lib/python3.7/site-packages/scipy/signal/spectral.py:1969: UserWarning: nperseg = 256 is greater than input length  = 133, using nperseg = 133\n",
      "  .format(nperseg, input_length))\n",
      "/home/poxlox/anaconda3/lib/python3.7/site-packages/scipy/signal/spectral.py:1969: UserWarning: nperseg = 256 is greater than input length  = 109, using nperseg = 109\n",
      "  .format(nperseg, input_length))\n",
      "/home/poxlox/anaconda3/lib/python3.7/site-packages/scipy/signal/spectral.py:1969: UserWarning: nperseg = 256 is greater than input length  = 125, using nperseg = 125\n",
      "  .format(nperseg, input_length))\n",
      "/home/poxlox/anaconda3/lib/python3.7/site-packages/scipy/signal/spectral.py:1969: UserWarning: nperseg = 256 is greater than input length  = 126, using nperseg = 126\n",
      "  .format(nperseg, input_length))\n",
      "/home/poxlox/anaconda3/lib/python3.7/site-packages/scipy/signal/spectral.py:1969: UserWarning: nperseg = 256 is greater than input length  = 155, using nperseg = 155\n",
      "  .format(nperseg, input_length))\n",
      "/home/poxlox/anaconda3/lib/python3.7/site-packages/scipy/signal/spectral.py:1969: UserWarning: nperseg = 256 is greater than input length  = 144, using nperseg = 144\n",
      "  .format(nperseg, input_length))\n",
      "/home/poxlox/anaconda3/lib/python3.7/site-packages/scipy/signal/spectral.py:1969: UserWarning: nperseg = 256 is greater than input length  = 131, using nperseg = 131\n",
      "  .format(nperseg, input_length))\n",
      "/home/poxlox/anaconda3/lib/python3.7/site-packages/scipy/signal/spectral.py:1969: UserWarning: nperseg = 256 is greater than input length  = 143, using nperseg = 143\n",
      "  .format(nperseg, input_length))\n",
      "/home/poxlox/anaconda3/lib/python3.7/site-packages/scipy/signal/spectral.py:1969: UserWarning: nperseg = 256 is greater than input length  = 137, using nperseg = 137\n",
      "  .format(nperseg, input_length))\n",
      "/home/poxlox/anaconda3/lib/python3.7/site-packages/scipy/signal/spectral.py:1969: UserWarning: nperseg = 256 is greater than input length  = 147, using nperseg = 147\n",
      "  .format(nperseg, input_length))\n",
      "/home/poxlox/anaconda3/lib/python3.7/site-packages/scipy/signal/spectral.py:1969: UserWarning: nperseg = 256 is greater than input length  = 127, using nperseg = 127\n",
      "  .format(nperseg, input_length))\n",
      "/home/poxlox/anaconda3/lib/python3.7/site-packages/scipy/signal/spectral.py:1969: UserWarning: nperseg = 256 is greater than input length  = 118, using nperseg = 118\n",
      "  .format(nperseg, input_length))\n",
      "/home/poxlox/anaconda3/lib/python3.7/site-packages/scipy/signal/spectral.py:1969: UserWarning: nperseg = 256 is greater than input length  = 116, using nperseg = 116\n",
      "  .format(nperseg, input_length))\n",
      "/home/poxlox/anaconda3/lib/python3.7/site-packages/scipy/signal/spectral.py:1969: UserWarning: nperseg = 256 is greater than input length  = 134, using nperseg = 134\n",
      "  .format(nperseg, input_length))\n",
      "/home/poxlox/anaconda3/lib/python3.7/site-packages/scipy/signal/spectral.py:1969: UserWarning: nperseg = 256 is greater than input length  = 130, using nperseg = 130\n",
      "  .format(nperseg, input_length))\n",
      "/home/poxlox/anaconda3/lib/python3.7/site-packages/scipy/signal/spectral.py:1969: UserWarning: nperseg = 256 is greater than input length  = 97, using nperseg = 97\n",
      "  .format(nperseg, input_length))\n",
      "/home/poxlox/anaconda3/lib/python3.7/site-packages/scipy/signal/spectral.py:1969: UserWarning: nperseg = 256 is greater than input length  = 110, using nperseg = 110\n",
      "  .format(nperseg, input_length))\n",
      "/home/poxlox/anaconda3/lib/python3.7/site-packages/scipy/signal/spectral.py:1969: UserWarning: nperseg = 256 is greater than input length  = 121, using nperseg = 121\n",
      "  .format(nperseg, input_length))\n",
      "/home/poxlox/anaconda3/lib/python3.7/site-packages/scipy/signal/spectral.py:1969: UserWarning: nperseg = 256 is greater than input length  = 227, using nperseg = 227\n",
      "  .format(nperseg, input_length))\n",
      "/home/poxlox/anaconda3/lib/python3.7/site-packages/scipy/signal/spectral.py:1969: UserWarning: nperseg = 256 is greater than input length  = 117, using nperseg = 117\n",
      "  .format(nperseg, input_length))\n",
      "/home/poxlox/anaconda3/lib/python3.7/site-packages/scipy/signal/spectral.py:1969: UserWarning: nperseg = 256 is greater than input length  = 136, using nperseg = 136\n",
      "  .format(nperseg, input_length))\n",
      "/home/poxlox/anaconda3/lib/python3.7/site-packages/scipy/signal/spectral.py:1969: UserWarning: nperseg = 256 is greater than input length  = 145, using nperseg = 145\n",
      "  .format(nperseg, input_length))\n",
      "/home/poxlox/anaconda3/lib/python3.7/site-packages/scipy/signal/spectral.py:1969: UserWarning: nperseg = 256 is greater than input length  = 114, using nperseg = 114\n",
      "  .format(nperseg, input_length))\n",
      "/home/poxlox/anaconda3/lib/python3.7/site-packages/scipy/signal/spectral.py:1969: UserWarning: nperseg = 256 is greater than input length  = 138, using nperseg = 138\n",
      "  .format(nperseg, input_length))\n",
      "/home/poxlox/anaconda3/lib/python3.7/site-packages/scipy/signal/spectral.py:1969: UserWarning: nperseg = 256 is greater than input length  = 106, using nperseg = 106\n",
      "  .format(nperseg, input_length))\n",
      "/home/poxlox/anaconda3/lib/python3.7/site-packages/scipy/signal/spectral.py:1969: UserWarning: nperseg = 256 is greater than input length  = 90, using nperseg = 90\n",
      "  .format(nperseg, input_length))\n",
      "/home/poxlox/anaconda3/lib/python3.7/site-packages/scipy/signal/spectral.py:1969: UserWarning: nperseg = 256 is greater than input length  = 108, using nperseg = 108\n",
      "  .format(nperseg, input_length))\n",
      "/home/poxlox/anaconda3/lib/python3.7/site-packages/scipy/signal/spectral.py:1969: UserWarning: nperseg = 256 is greater than input length  = 123, using nperseg = 123\n",
      "  .format(nperseg, input_length))\n",
      "/home/poxlox/anaconda3/lib/python3.7/site-packages/scipy/signal/spectral.py:1969: UserWarning: nperseg = 256 is greater than input length  = 112, using nperseg = 112\n",
      "  .format(nperseg, input_length))\n",
      "/home/poxlox/anaconda3/lib/python3.7/site-packages/scipy/signal/spectral.py:1969: UserWarning: nperseg = 256 is greater than input length  = 95, using nperseg = 95\n",
      "  .format(nperseg, input_length))\n",
      "/home/poxlox/anaconda3/lib/python3.7/site-packages/scipy/signal/spectral.py:1969: UserWarning: nperseg = 256 is greater than input length  = 102, using nperseg = 102\n",
      "  .format(nperseg, input_length))\n",
      "/home/poxlox/anaconda3/lib/python3.7/site-packages/scipy/signal/spectral.py:1969: UserWarning: nperseg = 256 is greater than input length  = 101, using nperseg = 101\n",
      "  .format(nperseg, input_length))\n",
      "/home/poxlox/anaconda3/lib/python3.7/site-packages/scipy/signal/spectral.py:1969: UserWarning: nperseg = 256 is greater than input length  = 91, using nperseg = 91\n",
      "  .format(nperseg, input_length))\n",
      "/home/poxlox/anaconda3/lib/python3.7/site-packages/scipy/signal/spectral.py:1969: UserWarning: nperseg = 256 is greater than input length  = 98, using nperseg = 98\n",
      "  .format(nperseg, input_length))\n",
      "/home/poxlox/anaconda3/lib/python3.7/site-packages/scipy/signal/spectral.py:1969: UserWarning: nperseg = 256 is greater than input length  = 79, using nperseg = 79\n",
      "  .format(nperseg, input_length))\n",
      "/home/poxlox/anaconda3/lib/python3.7/site-packages/scipy/signal/spectral.py:1969: UserWarning: nperseg = 256 is greater than input length  = 92, using nperseg = 92\n",
      "  .format(nperseg, input_length))\n",
      "/home/poxlox/anaconda3/lib/python3.7/site-packages/scipy/signal/spectral.py:1969: UserWarning: nperseg = 256 is greater than input length  = 77, using nperseg = 77\n",
      "  .format(nperseg, input_length))\n",
      "/home/poxlox/anaconda3/lib/python3.7/site-packages/scipy/signal/spectral.py:1969: UserWarning: nperseg = 256 is greater than input length  = 85, using nperseg = 85\n",
      "  .format(nperseg, input_length))\n",
      "/home/poxlox/anaconda3/lib/python3.7/site-packages/scipy/signal/spectral.py:1969: UserWarning: nperseg = 256 is greater than input length  = 99, using nperseg = 99\n",
      "  .format(nperseg, input_length))\n"
     ]
    },
    {
     "name": "stderr",
     "output_type": "stream",
     "text": [
      "/home/poxlox/anaconda3/lib/python3.7/site-packages/scipy/signal/spectral.py:1969: UserWarning: nperseg = 256 is greater than input length  = 93, using nperseg = 93\n",
      "  .format(nperseg, input_length))\n",
      "/home/poxlox/anaconda3/lib/python3.7/site-packages/scipy/signal/spectral.py:1969: UserWarning: nperseg = 256 is greater than input length  = 104, using nperseg = 104\n",
      "  .format(nperseg, input_length))\n",
      "/home/poxlox/anaconda3/lib/python3.7/site-packages/scipy/signal/spectral.py:1969: UserWarning: nperseg = 256 is greater than input length  = 105, using nperseg = 105\n",
      "  .format(nperseg, input_length))\n",
      "/home/poxlox/anaconda3/lib/python3.7/site-packages/scipy/signal/spectral.py:1969: UserWarning: nperseg = 256 is greater than input length  = 129, using nperseg = 129\n",
      "  .format(nperseg, input_length))\n",
      "/home/poxlox/anaconda3/lib/python3.7/site-packages/scipy/signal/spectral.py:1969: UserWarning: nperseg = 256 is greater than input length  = 107, using nperseg = 107\n",
      "  .format(nperseg, input_length))\n",
      "/home/poxlox/anaconda3/lib/python3.7/site-packages/scipy/signal/spectral.py:1969: UserWarning: nperseg = 256 is greater than input length  = 111, using nperseg = 111\n",
      "  .format(nperseg, input_length))\n",
      "/home/poxlox/anaconda3/lib/python3.7/site-packages/scipy/signal/spectral.py:1969: UserWarning: nperseg = 256 is greater than input length  = 128, using nperseg = 128\n",
      "  .format(nperseg, input_length))\n",
      "/home/poxlox/anaconda3/lib/python3.7/site-packages/scipy/signal/spectral.py:1969: UserWarning: nperseg = 256 is greater than input length  = 103, using nperseg = 103\n",
      "  .format(nperseg, input_length))\n",
      "/home/poxlox/anaconda3/lib/python3.7/site-packages/scipy/signal/spectral.py:1969: UserWarning: nperseg = 256 is greater than input length  = 140, using nperseg = 140\n",
      "  .format(nperseg, input_length))\n",
      "/home/poxlox/anaconda3/lib/python3.7/site-packages/scipy/signal/spectral.py:1969: UserWarning: nperseg = 256 is greater than input length  = 154, using nperseg = 154\n",
      "  .format(nperseg, input_length))\n",
      "/home/poxlox/anaconda3/lib/python3.7/site-packages/scipy/signal/spectral.py:1969: UserWarning: nperseg = 256 is greater than input length  = 150, using nperseg = 150\n",
      "  .format(nperseg, input_length))\n",
      "/home/poxlox/anaconda3/lib/python3.7/site-packages/scipy/signal/spectral.py:1969: UserWarning: nperseg = 256 is greater than input length  = 151, using nperseg = 151\n",
      "  .format(nperseg, input_length))\n",
      "/home/poxlox/anaconda3/lib/python3.7/site-packages/scipy/signal/spectral.py:1969: UserWarning: nperseg = 256 is greater than input length  = 157, using nperseg = 157\n",
      "  .format(nperseg, input_length))\n",
      "/home/poxlox/anaconda3/lib/python3.7/site-packages/scipy/signal/spectral.py:1969: UserWarning: nperseg = 256 is greater than input length  = 152, using nperseg = 152\n",
      "  .format(nperseg, input_length))\n",
      "/home/poxlox/anaconda3/lib/python3.7/site-packages/scipy/signal/spectral.py:1969: UserWarning: nperseg = 256 is greater than input length  = 100, using nperseg = 100\n",
      "  .format(nperseg, input_length))\n",
      "/home/poxlox/anaconda3/lib/python3.7/site-packages/scipy/signal/spectral.py:1969: UserWarning: nperseg = 256 is greater than input length  = 122, using nperseg = 122\n",
      "  .format(nperseg, input_length))\n",
      "/home/poxlox/anaconda3/lib/python3.7/site-packages/scipy/signal/spectral.py:1969: UserWarning: nperseg = 256 is greater than input length  = 96, using nperseg = 96\n",
      "  .format(nperseg, input_length))\n",
      "/home/poxlox/anaconda3/lib/python3.7/site-packages/scipy/signal/spectral.py:1969: UserWarning: nperseg = 256 is greater than input length  = 119, using nperseg = 119\n",
      "  .format(nperseg, input_length))\n",
      "/home/poxlox/anaconda3/lib/python3.7/site-packages/scipy/signal/spectral.py:1969: UserWarning: nperseg = 256 is greater than input length  = 146, using nperseg = 146\n",
      "  .format(nperseg, input_length))\n",
      "/home/poxlox/anaconda3/lib/python3.7/site-packages/scipy/signal/spectral.py:1969: UserWarning: nperseg = 256 is greater than input length  = 156, using nperseg = 156\n",
      "  .format(nperseg, input_length))\n",
      "/home/poxlox/anaconda3/lib/python3.7/site-packages/scipy/signal/spectral.py:1969: UserWarning: nperseg = 256 is greater than input length  = 141, using nperseg = 141\n",
      "  .format(nperseg, input_length))\n",
      "/home/poxlox/anaconda3/lib/python3.7/site-packages/scipy/signal/spectral.py:1969: UserWarning: nperseg = 256 is greater than input length  = 115, using nperseg = 115\n",
      "  .format(nperseg, input_length))\n",
      "/home/poxlox/anaconda3/lib/python3.7/site-packages/scipy/signal/spectral.py:1969: UserWarning: nperseg = 256 is greater than input length  = 139, using nperseg = 139\n",
      "  .format(nperseg, input_length))\n",
      "/home/poxlox/anaconda3/lib/python3.7/site-packages/scipy/signal/spectral.py:1969: UserWarning: nperseg = 256 is greater than input length  = 167, using nperseg = 167\n",
      "  .format(nperseg, input_length))\n",
      "/home/poxlox/anaconda3/lib/python3.7/site-packages/scipy/signal/spectral.py:1969: UserWarning: nperseg = 256 is greater than input length  = 75, using nperseg = 75\n",
      "  .format(nperseg, input_length))\n",
      "/home/poxlox/anaconda3/lib/python3.7/site-packages/scipy/signal/spectral.py:1969: UserWarning: nperseg = 256 is greater than input length  = 94, using nperseg = 94\n",
      "  .format(nperseg, input_length))\n",
      "/home/poxlox/anaconda3/lib/python3.7/site-packages/scipy/signal/spectral.py:1969: UserWarning: nperseg = 256 is greater than input length  = 168, using nperseg = 168\n",
      "  .format(nperseg, input_length))\n",
      "/home/poxlox/anaconda3/lib/python3.7/site-packages/scipy/signal/spectral.py:1969: UserWarning: nperseg = 256 is greater than input length  = 87, using nperseg = 87\n",
      "  .format(nperseg, input_length))\n",
      "/home/poxlox/anaconda3/lib/python3.7/site-packages/scipy/signal/spectral.py:1969: UserWarning: nperseg = 256 is greater than input length  = 148, using nperseg = 148\n",
      "  .format(nperseg, input_length))\n",
      "/home/poxlox/anaconda3/lib/python3.7/site-packages/scipy/signal/spectral.py:1969: UserWarning: nperseg = 256 is greater than input length  = 158, using nperseg = 158\n",
      "  .format(nperseg, input_length))\n",
      "/home/poxlox/anaconda3/lib/python3.7/site-packages/scipy/signal/spectral.py:1969: UserWarning: nperseg = 256 is greater than input length  = 163, using nperseg = 163\n",
      "  .format(nperseg, input_length))\n",
      "/home/poxlox/anaconda3/lib/python3.7/site-packages/scipy/signal/spectral.py:1969: UserWarning: nperseg = 256 is greater than input length  = 88, using nperseg = 88\n",
      "  .format(nperseg, input_length))\n",
      "/home/poxlox/anaconda3/lib/python3.7/site-packages/scipy/signal/spectral.py:1969: UserWarning: nperseg = 256 is greater than input length  = 187, using nperseg = 187\n",
      "  .format(nperseg, input_length))\n",
      "/home/poxlox/anaconda3/lib/python3.7/site-packages/scipy/signal/spectral.py:1969: UserWarning: nperseg = 256 is greater than input length  = 160, using nperseg = 160\n",
      "  .format(nperseg, input_length))\n",
      "/home/poxlox/anaconda3/lib/python3.7/site-packages/scipy/signal/spectral.py:1969: UserWarning: nperseg = 256 is greater than input length  = 149, using nperseg = 149\n",
      "  .format(nperseg, input_length))\n",
      "/home/poxlox/anaconda3/lib/python3.7/site-packages/scipy/signal/spectral.py:1969: UserWarning: nperseg = 256 is greater than input length  = 166, using nperseg = 166\n",
      "  .format(nperseg, input_length))\n",
      "/home/poxlox/anaconda3/lib/python3.7/site-packages/scipy/signal/spectral.py:1969: UserWarning: nperseg = 256 is greater than input length  = 162, using nperseg = 162\n",
      "  .format(nperseg, input_length))\n",
      "/home/poxlox/anaconda3/lib/python3.7/site-packages/scipy/signal/spectral.py:1969: UserWarning: nperseg = 256 is greater than input length  = 191, using nperseg = 191\n",
      "  .format(nperseg, input_length))\n",
      "/home/poxlox/anaconda3/lib/python3.7/site-packages/scipy/signal/spectral.py:1969: UserWarning: nperseg = 256 is greater than input length  = 188, using nperseg = 188\n",
      "  .format(nperseg, input_length))\n",
      "/home/poxlox/anaconda3/lib/python3.7/site-packages/scipy/signal/spectral.py:1969: UserWarning: nperseg = 256 is greater than input length  = 153, using nperseg = 153\n",
      "  .format(nperseg, input_length))\n",
      "/home/poxlox/anaconda3/lib/python3.7/site-packages/scipy/signal/spectral.py:1969: UserWarning: nperseg = 256 is greater than input length  = 186, using nperseg = 186\n",
      "  .format(nperseg, input_length))\n",
      "/home/poxlox/anaconda3/lib/python3.7/site-packages/scipy/signal/spectral.py:1969: UserWarning: nperseg = 256 is greater than input length  = 217, using nperseg = 217\n",
      "  .format(nperseg, input_length))\n",
      "/home/poxlox/anaconda3/lib/python3.7/site-packages/scipy/signal/spectral.py:1969: UserWarning: nperseg = 256 is greater than input length  = 170, using nperseg = 170\n",
      "  .format(nperseg, input_length))\n"
     ]
    },
    {
     "name": "stderr",
     "output_type": "stream",
     "text": [
      "/home/poxlox/anaconda3/lib/python3.7/site-packages/scipy/signal/spectral.py:1969: UserWarning: nperseg = 256 is greater than input length  = 216, using nperseg = 216\n",
      "  .format(nperseg, input_length))\n",
      "/home/poxlox/anaconda3/lib/python3.7/site-packages/scipy/signal/spectral.py:1969: UserWarning: nperseg = 256 is greater than input length  = 189, using nperseg = 189\n",
      "  .format(nperseg, input_length))\n",
      "/home/poxlox/anaconda3/lib/python3.7/site-packages/scipy/signal/spectral.py:1969: UserWarning: nperseg = 256 is greater than input length  = 229, using nperseg = 229\n",
      "  .format(nperseg, input_length))\n",
      "/home/poxlox/anaconda3/lib/python3.7/site-packages/scipy/signal/spectral.py:1969: UserWarning: nperseg = 256 is greater than input length  = 225, using nperseg = 225\n",
      "  .format(nperseg, input_length))\n",
      "/home/poxlox/anaconda3/lib/python3.7/site-packages/scipy/signal/spectral.py:1969: UserWarning: nperseg = 256 is greater than input length  = 192, using nperseg = 192\n",
      "  .format(nperseg, input_length))\n",
      "/home/poxlox/anaconda3/lib/python3.7/site-packages/scipy/signal/spectral.py:1969: UserWarning: nperseg = 256 is greater than input length  = 164, using nperseg = 164\n",
      "  .format(nperseg, input_length))\n",
      "/home/poxlox/anaconda3/lib/python3.7/site-packages/scipy/signal/spectral.py:1969: UserWarning: nperseg = 256 is greater than input length  = 177, using nperseg = 177\n",
      "  .format(nperseg, input_length))\n"
     ]
    }
   ],
   "source": [
    "# data transformations\n",
    "m=[only_gestures(x) for x in l]\n",
    "u=[]\n",
    "for frame in m:\n",
    "    t=[]\n",
    "    for gesture in [frame[frame['class']==gest] for gest in [1,2,3,4,5,6]]:\n",
    "        s=[]\n",
    "        #split gesture sessions\n",
    "        for splittime in [gesture[gesture['time']<gesture['time'].mean()],\n",
    "                          gesture[gesture['time']>gesture['time'].mean()]]:\n",
    "            r=[]\n",
    "            # create sampling intervals\n",
    "            for timebin in ([splittime[len(splittime)//14*i:len(splittime)\n",
    "                                       //14*i+len(splittime)//14] for i in np.arange(0,14)]):\n",
    "                q=[]\n",
    "                #each channel\n",
    "                for channel in timebin.columns[1:9]:\n",
    "                    # Welch transformation\n",
    "                    w=welch(timebin[channel])\n",
    "                    freq=w[0][w[1].argmax()]\n",
    "                    q.append(freq)\n",
    "                    # Magnitude transformation\n",
    "                    mag = timebin[channel].max()-timebin[channel].min()\n",
    "                    q.append(mag)\n",
    "                q.append(timebin['class'].iloc[0])\n",
    "                r.append(q)\n",
    "            s.append(r)\n",
    "        t.append(r)\n",
    "    u.append(t)\n",
    "del t,s,r,q"
   ]
  },
  {
   "cell_type": "code",
   "execution_count": null,
   "metadata": {},
   "outputs": [],
   "source": [
    "# each frame\n",
    "## each gesture\n",
    "### "
   ]
  },
  {
   "cell_type": "code",
   "execution_count": 6,
   "metadata": {},
   "outputs": [],
   "source": [
    "z=u.copy()\n",
    "combos=[]\n",
    "# create data combos\n",
    "for idx in range(0,60,2):\n",
    "    u=z.copy()\n",
    "    test_participant=[u.pop(idx)]\n",
    "    test_participant.append(u.pop(idx))\n",
    "    combos.append([u,test_participant])\n",
    "#same thing but with disjoint due to bad data\n",
    "for idx in range(63,69,2):\n",
    "    u=z.copy()\n",
    "    test_participant=[u.pop(idx)]\n",
    "    test_participant.append(u.pop(idx))\n",
    "    combos.append([u,test_participant])"
   ]
  },
  {
   "cell_type": "code",
   "execution_count": null,
   "metadata": {},
   "outputs": [],
   "source": [
    "# combos structure\n",
    "# a particular combination of a single withheld participant\n",
    "# # \n",
    "# # # \n",
    "# # # # each gesture\n",
    "# # # # # 8 pseudo-mags, 8 frequencies, 1 target"
   ]
  },
  {
   "cell_type": "code",
   "execution_count": 28,
   "metadata": {},
   "outputs": [
    {
     "data": {
      "text/plain": [
       "[0.031746031746031744,\n",
       " 2e-05,\n",
       " 0.0,\n",
       " 8e-05,\n",
       " 0.007936507936507936,\n",
       " 0.00013,\n",
       " 0.023809523809523808,\n",
       " 0.00035999999999999997,\n",
       " 0.007936507936507936,\n",
       " 0.0001,\n",
       " 0.007936507936507936,\n",
       " 0.00023,\n",
       " 0.007936507936507936,\n",
       " 7.999999999999999e-05,\n",
       " 0.015873015873015872,\n",
       " 4e-05,\n",
       " 1]"
      ]
     },
     "execution_count": 28,
     "metadata": {},
     "output_type": "execute_result"
    }
   ],
   "source": [
    "combos[0][0][5][0][0]"
   ]
  },
  {
   "cell_type": "code",
   "execution_count": null,
   "metadata": {},
   "outputs": [],
   "source": []
  },
  {
   "cell_type": "code",
   "execution_count": 7,
   "metadata": {},
   "outputs": [],
   "source": [
    "trscore=[]\n",
    "tescore=[]\n",
    "wiscore=[]\n",
    "trfailmat=[]\n",
    "tefailmat=[]\n",
    "wifailmat=[]\n",
    "for cycle, thing in enumerate(combos):\n",
    "    v=[]\n",
    "    x=[]\n",
    "    for session in thing[0]:\n",
    "        v.append(np.concatenate(session,axis=0)) \n",
    "    for session in thing[1]:\n",
    "        x.append(np.concatenate(session,axis=0)) \n",
    "    \n",
    "    targets=[a[:,-1] for a in v] \n",
    "    nX = np.concatenate([StandardScaler().fit_transform(a[:,:-1]) \n",
    "    for a in v], axis=0)\n",
    "    ny = np.concatenate(targets,axis=0)\n",
    "    \n",
    "    test_participant_targets=[a[:,-1] for a in x]\n",
    "    ntest_participant_X=np.concatenate([StandardScaler().fit_transform(a[:,:-1]) \n",
    "                                                                       for a in x],\n",
    "                                 axis=0)\n",
    "    ntest_participant_y=np.concatenate(test_participant_targets, axis=0)\n",
    "    \n",
    "    X_train, X_test, y_train,y_test = train_test_split(nX, ny)\n",
    "    rf=RandomForestClassifier(bootstrap=True, class_weight=None, criterion='gini',\n",
    "                       max_depth=20, max_features='auto', max_leaf_nodes=None,\n",
    "                       min_impurity_decrease=0.0, min_impurity_split=None,\n",
    "                       min_samples_leaf=1, min_samples_split=3,\n",
    "                       min_weight_fraction_leaf=0.0, n_estimators=100,\n",
    "                       n_jobs=None, oob_score=False, random_state=0, verbose=0,\n",
    "                       warm_start=False)\n",
    "    rf.fit(X_train,y_train)\n",
    "    \n",
    "    \n",
    "    aa=rf.predict(X_train)\n",
    "    ab=rf.predict(X_test)\n",
    "    ac=rf.predict(ntest_participant_X)\n",
    "    aa.shape=(aa.shape[0],1)\n",
    "    ab.shape=(ab.shape[0],1)\n",
    "    ac.shape=(ac.shape[0],1)\n",
    "    y_train.shape=(y_train.shape[0],1)\n",
    "    y_test.shape=(y_test.shape[0],1)\n",
    "    ntest_participant_y.shape=(ntest_participant_y.shape[0],1)\n",
    "    trfailmat.append(np.concatenate([y_train,aa,aa-y_train],axis=1))\n",
    "    tefailmat.append(np.concatenate([y_test,ab,ab-y_test],axis=1))\n",
    "    wifailmat.append(np.concatenate([ntest_participant_y,ac,ac-ntest_participant_y],axis=1))\n",
    "\n",
    "    trscore.append(float(rf.score(X_train,y_train)))\n",
    "    tescore.append(float(rf.score(X_test,y_test)))\n",
    "    wiscore.append(float(rf.score(ntest_participant_X, ntest_participant_y)))\n"
   ]
  },
  {
   "cell_type": "code",
   "execution_count": 8,
   "metadata": {},
   "outputs": [],
   "source": [
    "ohmy=[]\n",
    "for thing in wifailmat:\n",
    "    q=[]\n",
    "    errors=thing[thing[:,2]!=0]\n",
    "    err=pd.DataFrame(errors,columns=['tru', 'pred', 'diff'])#careful, reversed\n",
    "    err.sort_values(by=['tru'])\n",
    "    q.append(err.groupby(by=['tru','pred'])['pred'].count().sort_values()[-3:])\n",
    "    q.append(err.groupby(by=['tru','pred'])['pred'].count().sort_values()[-3:].index.get_level_values(0))\n",
    "    q.append(err.groupby(by=['tru','pred'])['pred'].count().sort_values()[-3:].index.get_level_values(1))\n",
    "    ohmy.append(q)\n",
    "    # errors=errorcheck[errorcheck[:,2]!=0]\n",
    "# err=pd.DataFrame(errors,columns=['pred', 'tru', 'diff'])\n",
    "# err.sort_values(by=['tru'])\n",
    "# err.groupby(by=['tru','pred'])['pred'].count().sort_values()"
   ]
  },
  {
   "cell_type": "code",
   "execution_count": 217,
   "metadata": {},
   "outputs": [
    {
     "data": {
      "text/plain": [
       "[[tru  pred\n",
       "  4.0  5.0     11\n",
       "  1.0  3.0     16\n",
       "  5.0  4.0     24\n",
       "  Name: pred, dtype: int64,\n",
       "  Float64Index([4.0, 1.0, 5.0], dtype='float64', name='tru'),\n",
       "  Float64Index([5.0, 3.0, 4.0], dtype='float64', name='pred')],\n",
       " [tru  pred\n",
       "  5.0  3.0     3\n",
       "  1.0  5.0     5\n",
       "       3.0     7\n",
       "  Name: pred, dtype: int64,\n",
       "  Float64Index([5.0, 1.0, 1.0], dtype='float64', name='tru'),\n",
       "  Float64Index([3.0, 5.0, 3.0], dtype='float64', name='pred')],\n",
       " [tru  pred\n",
       "  6.0  3.0     4\n",
       "  5.0  4.0     5\n",
       "  1.0  5.0     6\n",
       "  Name: pred, dtype: int64,\n",
       "  Float64Index([6.0, 5.0, 1.0], dtype='float64', name='tru'),\n",
       "  Float64Index([3.0, 4.0, 5.0], dtype='float64', name='pred')],\n",
       " [tru  pred\n",
       "  3.0  5.0     5\n",
       "  4.0  5.0     5\n",
       "  3.0  2.0     9\n",
       "  Name: pred, dtype: int64,\n",
       "  Float64Index([3.0, 4.0, 3.0], dtype='float64', name='tru'),\n",
       "  Float64Index([5.0, 5.0, 2.0], dtype='float64', name='pred')],\n",
       " [tru  pred\n",
       "  4.0  5.0     2\n",
       "  6.0  1.0     4\n",
       "  5.0  4.0     6\n",
       "  Name: pred, dtype: int64,\n",
       "  Float64Index([4.0, 6.0, 5.0], dtype='float64', name='tru'),\n",
       "  Float64Index([5.0, 1.0, 4.0], dtype='float64', name='pred')],\n",
       " [tru  pred\n",
       "  6.0  2.0     4\n",
       "  5.0  4.0     7\n",
       "  6.0  3.0     7\n",
       "  Name: pred, dtype: int64,\n",
       "  Float64Index([6.0, 5.0, 6.0], dtype='float64', name='tru'),\n",
       "  Float64Index([2.0, 4.0, 3.0], dtype='float64', name='pred')],\n",
       " [tru  pred\n",
       "  6.0  2.0      1\n",
       "       4.0      4\n",
       "  2.0  6.0     10\n",
       "  Name: pred, dtype: int64,\n",
       "  Float64Index([6.0, 6.0, 2.0], dtype='float64', name='tru'),\n",
       "  Float64Index([2.0, 4.0, 6.0], dtype='float64', name='pred')],\n",
       " [tru  pred\n",
       "  5.0  4.0      4\n",
       "  3.0  2.0      5\n",
       "  6.0  3.0     23\n",
       "  Name: pred, dtype: int64,\n",
       "  Float64Index([5.0, 3.0, 6.0], dtype='float64', name='tru'),\n",
       "  Float64Index([4.0, 2.0, 3.0], dtype='float64', name='pred')],\n",
       " [tru  pred\n",
       "  6.0  3.0     11\n",
       "  3.0  2.0     13\n",
       "  2.0  3.0     20\n",
       "  Name: pred, dtype: int64,\n",
       "  Float64Index([6.0, 3.0, 2.0], dtype='float64', name='tru'),\n",
       "  Float64Index([3.0, 2.0, 3.0], dtype='float64', name='pred')],\n",
       " [tru  pred\n",
       "  4.0  5.0      1\n",
       "  3.0  6.0      6\n",
       "  6.0  3.0     11\n",
       "  Name: pred, dtype: int64,\n",
       "  Float64Index([4.0, 3.0, 6.0], dtype='float64', name='tru'),\n",
       "  Float64Index([5.0, 6.0, 3.0], dtype='float64', name='pred')],\n",
       " [tru  pred\n",
       "  4.0  5.0      2\n",
       "  6.0  3.0     14\n",
       "  5.0  4.0     16\n",
       "  Name: pred, dtype: int64,\n",
       "  Float64Index([4.0, 6.0, 5.0], dtype='float64', name='tru'),\n",
       "  Float64Index([5.0, 3.0, 4.0], dtype='float64', name='pred')],\n",
       " [tru  pred\n",
       "  3.0  6.0     2\n",
       "  5.0  1.0     2\n",
       "  4.0  5.0     4\n",
       "  Name: pred, dtype: int64,\n",
       "  Float64Index([3.0, 5.0, 4.0], dtype='float64', name='tru'),\n",
       "  Float64Index([6.0, 1.0, 5.0], dtype='float64', name='pred')],\n",
       " [tru  pred\n",
       "  6.0  3.0     4\n",
       "  5.0  4.0     5\n",
       "  4.0  5.0     6\n",
       "  Name: pred, dtype: int64,\n",
       "  Float64Index([6.0, 5.0, 4.0], dtype='float64', name='tru'),\n",
       "  Float64Index([3.0, 4.0, 5.0], dtype='float64', name='pred')],\n",
       " [tru  pred\n",
       "  3.0  6.0      4\n",
       "  6.0  3.0      9\n",
       "  5.0  4.0     13\n",
       "  Name: pred, dtype: int64,\n",
       "  Float64Index([3.0, 6.0, 5.0], dtype='float64', name='tru'),\n",
       "  Float64Index([6.0, 3.0, 4.0], dtype='float64', name='pred')],\n",
       " [tru  pred\n",
       "  2.0  6.0     3\n",
       "  6.0  4.0     5\n",
       "  4.0  5.0     9\n",
       "  Name: pred, dtype: int64,\n",
       "  Float64Index([2.0, 6.0, 4.0], dtype='float64', name='tru'),\n",
       "  Float64Index([6.0, 4.0, 5.0], dtype='float64', name='pred')],\n",
       " [tru  pred\n",
       "  5.0  4.0     1\n",
       "  6.0  3.0     1\n",
       "  2.0  5.0     2\n",
       "  Name: pred, dtype: int64,\n",
       "  Float64Index([5.0, 6.0, 2.0], dtype='float64', name='tru'),\n",
       "  Float64Index([4.0, 3.0, 5.0], dtype='float64', name='pred')],\n",
       " [tru  pred\n",
       "  5.0  4.0     1\n",
       "  6.0  2.0     1\n",
       "  4.0  5.0     4\n",
       "  Name: pred, dtype: int64,\n",
       "  Float64Index([5.0, 6.0, 4.0], dtype='float64', name='tru'),\n",
       "  Float64Index([4.0, 2.0, 5.0], dtype='float64', name='pred')],\n",
       " [tru  pred\n",
       "  2.0  3.0     1\n",
       "  6.0  2.0     1\n",
       "  Name: pred, dtype: int64,\n",
       "  Float64Index([2.0, 6.0], dtype='float64', name='tru'),\n",
       "  Float64Index([3.0, 2.0], dtype='float64', name='pred')],\n",
       " [tru  pred\n",
       "  4.0  6.0      2\n",
       "  6.0  3.0      4\n",
       "  5.0  4.0     14\n",
       "  Name: pred, dtype: int64,\n",
       "  Float64Index([4.0, 6.0, 5.0], dtype='float64', name='tru'),\n",
       "  Float64Index([6.0, 3.0, 4.0], dtype='float64', name='pred')],\n",
       " [tru  pred\n",
       "  3.0  2.0     2\n",
       "       5.0     3\n",
       "       6.0     8\n",
       "  Name: pred, dtype: int64,\n",
       "  Float64Index([3.0, 3.0, 3.0], dtype='float64', name='tru'),\n",
       "  Float64Index([2.0, 5.0, 6.0], dtype='float64', name='pred')],\n",
       " [tru  pred\n",
       "  6.0  1.0     2\n",
       "  5.0  4.0     3\n",
       "  6.0  3.0     3\n",
       "  Name: pred, dtype: int64,\n",
       "  Float64Index([6.0, 5.0, 6.0], dtype='float64', name='tru'),\n",
       "  Float64Index([1.0, 4.0, 3.0], dtype='float64', name='pred')],\n",
       " [tru  pred\n",
       "  6.0  4.0      2\n",
       "  4.0  6.0      5\n",
       "  5.0  4.0     10\n",
       "  Name: pred, dtype: int64,\n",
       "  Float64Index([6.0, 4.0, 5.0], dtype='float64', name='tru'),\n",
       "  Float64Index([4.0, 6.0, 4.0], dtype='float64', name='pred')],\n",
       " [tru  pred\n",
       "  3.0  2.0     3\n",
       "       6.0     4\n",
       "  6.0  3.0     9\n",
       "  Name: pred, dtype: int64,\n",
       "  Float64Index([3.0, 3.0, 6.0], dtype='float64', name='tru'),\n",
       "  Float64Index([2.0, 6.0, 3.0], dtype='float64', name='pred')],\n",
       " [tru  pred\n",
       "  4.0  5.0     1\n",
       "  5.0  4.0     1\n",
       "  6.0  3.0     6\n",
       "  Name: pred, dtype: int64,\n",
       "  Float64Index([4.0, 5.0, 6.0], dtype='float64', name='tru'),\n",
       "  Float64Index([5.0, 4.0, 3.0], dtype='float64', name='pred')],\n",
       " [tru  pred\n",
       "  2.0  6.0     1\n",
       "  4.0  5.0     1\n",
       "  6.0  3.0     1\n",
       "  Name: pred, dtype: int64,\n",
       "  Float64Index([2.0, 4.0, 6.0], dtype='float64', name='tru'),\n",
       "  Float64Index([6.0, 5.0, 3.0], dtype='float64', name='pred')],\n",
       " [tru  pred\n",
       "  3.0  5.0     1\n",
       "  5.0  4.0     2\n",
       "  2.0  4.0     3\n",
       "  Name: pred, dtype: int64,\n",
       "  Float64Index([3.0, 5.0, 2.0], dtype='float64', name='tru'),\n",
       "  Float64Index([5.0, 4.0, 4.0], dtype='float64', name='pred')],\n",
       " [tru  pred\n",
       "  4.0  5.0     2\n",
       "       6.0     2\n",
       "  3.0  6.0     4\n",
       "  Name: pred, dtype: int64,\n",
       "  Float64Index([4.0, 4.0, 3.0], dtype='float64', name='tru'),\n",
       "  Float64Index([5.0, 6.0, 6.0], dtype='float64', name='pred')],\n",
       " [tru  pred\n",
       "  4.0  6.0      1\n",
       "  6.0  1.0      1\n",
       "  3.0  6.0     17\n",
       "  Name: pred, dtype: int64,\n",
       "  Float64Index([4.0, 6.0, 3.0], dtype='float64', name='tru'),\n",
       "  Float64Index([6.0, 1.0, 6.0], dtype='float64', name='pred')],\n",
       " [tru  pred\n",
       "  3.0  6.0     4\n",
       "  6.0  3.0     4\n",
       "  4.0  5.0     5\n",
       "  Name: pred, dtype: int64,\n",
       "  Float64Index([3.0, 6.0, 4.0], dtype='float64', name='tru'),\n",
       "  Float64Index([6.0, 3.0, 5.0], dtype='float64', name='pred')],\n",
       " [tru  pred\n",
       "  5.0  3.0     1\n",
       "  6.0  2.0     1\n",
       "  Name: pred, dtype: int64,\n",
       "  Float64Index([5.0, 6.0], dtype='float64', name='tru'),\n",
       "  Float64Index([3.0, 2.0], dtype='float64', name='pred')],\n",
       " [tru  pred\n",
       "  4.0  5.0     2\n",
       "  3.0  6.0     5\n",
       "  Name: pred, dtype: int64,\n",
       "  Float64Index([4.0, 3.0], dtype='float64', name='tru'),\n",
       "  Float64Index([5.0, 6.0], dtype='float64', name='pred')],\n",
       " [tru  pred\n",
       "  6.0  3.0     10\n",
       "  2.0  6.0     13\n",
       "  5.0  4.0     15\n",
       "  Name: pred, dtype: int64,\n",
       "  Float64Index([6.0, 2.0, 5.0], dtype='float64', name='tru'),\n",
       "  Float64Index([3.0, 6.0, 4.0], dtype='float64', name='pred')],\n",
       " [tru  pred\n",
       "  3.0  6.0     17\n",
       "  4.0  5.0     21\n",
       "  6.0  4.0     28\n",
       "  Name: pred, dtype: int64,\n",
       "  Float64Index([3.0, 4.0, 6.0], dtype='float64', name='tru'),\n",
       "  Float64Index([6.0, 5.0, 4.0], dtype='float64', name='pred')]]"
      ]
     },
     "execution_count": 217,
     "metadata": {},
     "output_type": "execute_result"
    }
   ],
   "source": [
    "ohmy"
   ]
  },
  {
   "cell_type": "code",
   "execution_count": 10,
   "metadata": {},
   "outputs": [],
   "source": [
    "sic=[]\n",
    "for pred in range(1,7):\n",
    "    for tru in range(1,7):\n",
    "        count=0\n",
    "        for place in ohmy:\n",
    "            if place[1][-1]==tru:\n",
    "                if place[2][-1]==pred:\n",
    "                    count+=place[0][-1]\n",
    "        sic.append(((pred,tru),count))\n"
   ]
  },
  {
   "cell_type": "code",
   "execution_count": 11,
   "metadata": {},
   "outputs": [],
   "source": [
    "sic=np.array(sic)"
   ]
  },
  {
   "cell_type": "code",
   "execution_count": 12,
   "metadata": {},
   "outputs": [],
   "source": [
    "plotter=sic[sic[:,1]!=0]"
   ]
  },
  {
   "cell_type": "code",
   "execution_count": 24,
   "metadata": {},
   "outputs": [
    {
     "data": {
      "text/plain": [
       "Text(0.5, 0.98, 'Score per witheld participant')"
      ]
     },
     "execution_count": 24,
     "metadata": {},
     "output_type": "execute_result"
    },
    {
     "data": {
      "image/png": "[encoded data removed]",
      "text/plain": [
       "<Figure size 432x288 with 1 Axes>"
      ]
     },
     "metadata": {},
     "output_type": "display_data"
    }
   ],
   "source": [
    "plt.bar(np.arange(len(wiscore)),wiscore)\n",
    "plt.style.use('ggplot')\n",
    "plt.suptitle('Score per witheld participant',size=20)"
   ]
  },
  {
   "cell_type": "code",
   "execution_count": 17,
   "metadata": {},
   "outputs": [
    {
     "data": {
      "text/plain": [
       "[0.39880952380952384,\n",
       " 0.5178571428571429,\n",
       " 0.5357142857142857,\n",
       " 0.6964285714285714,\n",
       " 0.7440476190476191,\n",
       " 0.7916666666666666,\n",
       " 0.8273809523809523,\n",
       " 0.8333333333333334,\n",
       " 0.8452380952380952,\n",
       " 0.8690476190476191,\n",
       " 0.8690476190476191,\n",
       " 0.875,\n",
       " 0.8809523809523809,\n",
       " 0.8809523809523809,\n",
       " 0.8809523809523809,\n",
       " 0.8869047619047619,\n",
       " 0.8928571428571429,\n",
       " 0.8988095238095238,\n",
       " 0.9047619047619048,\n",
       " 0.9166666666666666,\n",
       " 0.9345238095238095,\n",
       " 0.9345238095238095,\n",
       " 0.9345238095238095,\n",
       " 0.9404761904761905,\n",
       " 0.9464285714285714,\n",
       " 0.9464285714285714,\n",
       " 0.9523809523809523,\n",
       " 0.9642857142857143,\n",
       " 0.9702380952380952,\n",
       " 0.9761904761904762,\n",
       " 0.9761904761904762,\n",
       " 0.9821428571428571,\n",
       " 0.9880952380952381]"
      ]
     },
     "execution_count": 17,
     "metadata": {},
     "output_type": "execute_result"
    }
   ],
   "source": [
    "wiscore"
   ]
  },
  {
   "cell_type": "code",
   "execution_count": null,
   "metadata": {},
   "outputs": [],
   "source": []
  },
  {
   "cell_type": "code",
   "execution_count": null,
   "metadata": {},
   "outputs": [],
   "source": []
  },
  {
   "cell_type": "code",
   "execution_count": 250,
   "metadata": {
    "scrolled": true
   },
   "outputs": [
    {
     "data": {
      "text/plain": [
       "array([[(2, 3), 9],\n",
       "       [(2, 6), 2],\n",
       "       [(3, 1), 7],\n",
       "       [(3, 2), 20],\n",
       "       [(3, 6), 60],\n",
       "       [(4, 2), 3],\n",
       "       [(4, 5), 74],\n",
       "       [(4, 6), 28],\n",
       "       [(5, 1), 6],\n",
       "       [(5, 2), 2],\n",
       "       [(5, 4), 28],\n",
       "       [(6, 2), 10],\n",
       "       [(6, 3), 34]], dtype=object)"
      ]
     },
     "execution_count": 250,
     "metadata": {},
     "output_type": "execute_result"
    }
   ],
   "source": [
    "plotter"
   ]
  },
  {
   "cell_type": "code",
   "execution_count": 239,
   "metadata": {},
   "outputs": [
    {
     "data": {
      "text/plain": [
       "Float64Index([4.0, 1.0, 5.0], dtype='float64', name='tru')"
      ]
     },
     "execution_count": 239,
     "metadata": {},
     "output_type": "execute_result"
    }
   ],
   "source": [
    "ohmy[0][1]"
   ]
  },
  {
   "cell_type": "code",
   "execution_count": 268,
   "metadata": {},
   "outputs": [
    {
     "data": {
      "image/png": "[encoded data removed]",
      "text/plain": [
       "<Figure size 720x360 with 1 Axes>"
      ]
     },
     "metadata": {},
     "output_type": "display_data"
    }
   ],
   "source": [
    "fig,ax=plt.subplots(1,figsize=(10,5))\n",
    "plt.bar(np.arange(len(plotter)),plotter[:,1])\n",
    "plt.xticks(np.arange(len(plotter)),plotter[:,0])\n",
    "plt.suptitle('(True, Predicted)',size=28,ha='right')\n",
    "plt.style.use('ggplot')\n",
    "# plt.constrained_layout()\n"
   ]
  },
  {
   "cell_type": "code",
   "execution_count": 13,
   "metadata": {},
   "outputs": [
    {
     "data": {
      "text/plain": [
       "<BarContainer object of 33 artists>"
      ]
     },
     "execution_count": 13,
     "metadata": {},
     "output_type": "execute_result"
    },
    {
     "data": {
      "image/png": "[encoded data removed]",
      "text/plain": [
       "<Figure size 432x288 with 1 Axes>"
      ]
     },
     "metadata": {
      "needs_background": "light"
     },
     "output_type": "display_data"
    }
   ],
   "source": [
    "plt.bar(range(len(ohmy)),[c[0][-1] for c in ohmy])"
   ]
  },
  {
   "cell_type": "code",
   "execution_count": null,
   "metadata": {},
   "outputs": [],
   "source": []
  },
  {
   "cell_type": "code",
   "execution_count": null,
   "metadata": {},
   "outputs": [],
   "source": []
  },
  {
   "cell_type": "code",
   "execution_count": null,
   "metadata": {},
   "outputs": [],
   "source": []
  },
  {
   "cell_type": "code",
   "execution_count": 269,
   "metadata": {},
   "outputs": [
    {
     "data": {
      "text/plain": [
       "{1: 'hand at rest',\n",
       " 2: 'hand clenched in a fist',\n",
       " 3: 'wrist flexion',\n",
       " 4: 'wrist extension',\n",
       " 5: 'radial deviations',\n",
       " 6: 'ulnar deviations'}"
      ]
     },
     "execution_count": 269,
     "metadata": {},
     "output_type": "execute_result"
    }
   ],
   "source": [
    "gestdict"
   ]
  },
  {
   "cell_type": "code",
   "execution_count": 206,
   "metadata": {
    "scrolled": true
   },
   "outputs": [
    {
     "ename": "KeyError",
     "evalue": "'Column not found: pred'",
     "output_type": "error",
     "traceback": [
      "\u001b[0;31m---------------------------------------------------------------------------\u001b[0m",
      "\u001b[0;31mKeyError\u001b[0m                                  Traceback (most recent call last)",
      "\u001b[0;32m<ipython-input-206-8b16cad147c7>\u001b[0m in \u001b[0;36m<module>\u001b[0;34m\u001b[0m\n\u001b[1;32m      3\u001b[0m     \u001b[0mq\u001b[0m\u001b[0;34m=\u001b[0m\u001b[0;34m[\u001b[0m\u001b[0;34m]\u001b[0m\u001b[0;34m\u001b[0m\u001b[0;34m\u001b[0m\u001b[0m\n\u001b[1;32m      4\u001b[0m     \u001b[0mq\u001b[0m\u001b[0;34m.\u001b[0m\u001b[0mappend\u001b[0m\u001b[0;34m(\u001b[0m\u001b[0moh\u001b[0m\u001b[0;34m.\u001b[0m\u001b[0mgroupby\u001b[0m\u001b[0;34m(\u001b[0m\u001b[0mby\u001b[0m\u001b[0;34m=\u001b[0m\u001b[0;34m[\u001b[0m\u001b[0;34m'tru'\u001b[0m\u001b[0;34m,\u001b[0m\u001b[0;34m'pred'\u001b[0m\u001b[0;34m]\u001b[0m\u001b[0;34m)\u001b[0m\u001b[0;34m.\u001b[0m\u001b[0mcount\u001b[0m\u001b[0;34m(\u001b[0m\u001b[0;34m)\u001b[0m\u001b[0;34m[\u001b[0m\u001b[0;34m-\u001b[0m\u001b[0;36m3\u001b[0m\u001b[0;34m:\u001b[0m\u001b[0;34m]\u001b[0m\u001b[0;34m)\u001b[0m\u001b[0;34m\u001b[0m\u001b[0;34m\u001b[0m\u001b[0m\n\u001b[0;32m----> 5\u001b[0;31m     \u001b[0mq\u001b[0m\u001b[0;34m.\u001b[0m\u001b[0mappend\u001b[0m\u001b[0;34m(\u001b[0m\u001b[0moh\u001b[0m\u001b[0;34m.\u001b[0m\u001b[0mgroupby\u001b[0m\u001b[0;34m(\u001b[0m\u001b[0mby\u001b[0m\u001b[0;34m=\u001b[0m\u001b[0;34m[\u001b[0m\u001b[0;34m'tru'\u001b[0m\u001b[0;34m,\u001b[0m\u001b[0;34m'pred'\u001b[0m\u001b[0;34m]\u001b[0m\u001b[0;34m)\u001b[0m\u001b[0;34m[\u001b[0m\u001b[0;34m'pred'\u001b[0m\u001b[0;34m]\u001b[0m\u001b[0;34m.\u001b[0m\u001b[0mcount\u001b[0m\u001b[0;34m(\u001b[0m\u001b[0;34m)\u001b[0m\u001b[0;34m.\u001b[0m\u001b[0msort_values\u001b[0m\u001b[0;34m(\u001b[0m\u001b[0;34m)\u001b[0m\u001b[0;34m[\u001b[0m\u001b[0;34m-\u001b[0m\u001b[0;36m3\u001b[0m\u001b[0;34m:\u001b[0m\u001b[0;34m]\u001b[0m\u001b[0;34m.\u001b[0m\u001b[0mindex\u001b[0m\u001b[0;34m.\u001b[0m\u001b[0mget_level_values\u001b[0m\u001b[0;34m(\u001b[0m\u001b[0;36m0\u001b[0m\u001b[0;34m)\u001b[0m\u001b[0;34m)\u001b[0m\u001b[0;34m\u001b[0m\u001b[0;34m\u001b[0m\u001b[0m\n\u001b[0m\u001b[1;32m      6\u001b[0m     \u001b[0mq\u001b[0m\u001b[0;34m.\u001b[0m\u001b[0mappend\u001b[0m\u001b[0;34m(\u001b[0m\u001b[0moh\u001b[0m\u001b[0;34m.\u001b[0m\u001b[0mgroupby\u001b[0m\u001b[0;34m(\u001b[0m\u001b[0mby\u001b[0m\u001b[0;34m=\u001b[0m\u001b[0;34m[\u001b[0m\u001b[0;34m'tru'\u001b[0m\u001b[0;34m,\u001b[0m\u001b[0;34m'pred'\u001b[0m\u001b[0;34m]\u001b[0m\u001b[0;34m)\u001b[0m\u001b[0;34m[\u001b[0m\u001b[0;34m'pred'\u001b[0m\u001b[0;34m]\u001b[0m\u001b[0;34m.\u001b[0m\u001b[0mcount\u001b[0m\u001b[0;34m(\u001b[0m\u001b[0;34m)\u001b[0m\u001b[0;34m.\u001b[0m\u001b[0msort_values\u001b[0m\u001b[0;34m(\u001b[0m\u001b[0;34m)\u001b[0m\u001b[0;34m[\u001b[0m\u001b[0;34m-\u001b[0m\u001b[0;36m3\u001b[0m\u001b[0;34m:\u001b[0m\u001b[0;34m]\u001b[0m\u001b[0;34m.\u001b[0m\u001b[0mindex\u001b[0m\u001b[0;34m.\u001b[0m\u001b[0mget_level_values\u001b[0m\u001b[0;34m(\u001b[0m\u001b[0;36m1\u001b[0m\u001b[0;34m)\u001b[0m\u001b[0;34m)\u001b[0m\u001b[0;34m\u001b[0m\u001b[0;34m\u001b[0m\u001b[0m\n",
      "\u001b[0;32m~/anaconda3/lib/python3.7/site-packages/pandas/core/base.py\u001b[0m in \u001b[0;36m__getitem__\u001b[0;34m(self, key)\u001b[0m\n\u001b[1;32m    273\u001b[0m         \u001b[0;32melse\u001b[0m\u001b[0;34m:\u001b[0m\u001b[0;34m\u001b[0m\u001b[0;34m\u001b[0m\u001b[0m\n\u001b[1;32m    274\u001b[0m             \u001b[0;32mif\u001b[0m \u001b[0mkey\u001b[0m \u001b[0;32mnot\u001b[0m \u001b[0;32min\u001b[0m \u001b[0mself\u001b[0m\u001b[0;34m.\u001b[0m\u001b[0mobj\u001b[0m\u001b[0;34m:\u001b[0m\u001b[0;34m\u001b[0m\u001b[0;34m\u001b[0m\u001b[0m\n\u001b[0;32m--> 275\u001b[0;31m                 \u001b[0;32mraise\u001b[0m \u001b[0mKeyError\u001b[0m\u001b[0;34m(\u001b[0m\u001b[0;34m\"Column not found: {key}\"\u001b[0m\u001b[0;34m.\u001b[0m\u001b[0mformat\u001b[0m\u001b[0;34m(\u001b[0m\u001b[0mkey\u001b[0m\u001b[0;34m=\u001b[0m\u001b[0mkey\u001b[0m\u001b[0;34m)\u001b[0m\u001b[0;34m)\u001b[0m\u001b[0;34m\u001b[0m\u001b[0;34m\u001b[0m\u001b[0m\n\u001b[0m\u001b[1;32m    276\u001b[0m             \u001b[0;32mreturn\u001b[0m \u001b[0mself\u001b[0m\u001b[0;34m.\u001b[0m\u001b[0m_gotitem\u001b[0m\u001b[0;34m(\u001b[0m\u001b[0mkey\u001b[0m\u001b[0;34m,\u001b[0m \u001b[0mndim\u001b[0m\u001b[0;34m=\u001b[0m\u001b[0;36m1\u001b[0m\u001b[0;34m)\u001b[0m\u001b[0;34m\u001b[0m\u001b[0;34m\u001b[0m\u001b[0m\n\u001b[1;32m    277\u001b[0m \u001b[0;34m\u001b[0m\u001b[0m\n",
      "\u001b[0;31mKeyError\u001b[0m: 'Column not found: pred'"
     ]
    }
   ],
   "source": [
    "damn=[]\n",
    "for oh in ohmy:\n",
    "    q=[]\n",
    "    q.append(oh.groupby(by=['tru','pred']).count()[-3:])\n",
    "    q.append(oh.groupby(by=['tru','pred'])['pred'].count().sort_values()[-3:].index.get_level_values(0))\n",
    "    q.append(oh.groupby(by=['tru','pred'])['pred'].count().sort_values()[-3:].index.get_level_values(1))"
   ]
  },
  {
   "cell_type": "code",
   "execution_count": null,
   "metadata": {},
   "outputs": [],
   "source": []
  },
  {
   "cell_type": "code",
   "execution_count": 212,
   "metadata": {},
   "outputs": [
    {
     "data": {
      "text/plain": [
       "Float64Index([6.0, 5.0, 4.0], dtype='float64', name='pred')"
      ]
     },
     "execution_count": 212,
     "metadata": {},
     "output_type": "execute_result"
    }
   ],
   "source": [
    "# err.groupby(by=['tru','pred']).get_level_values(0)\n",
    "err.groupby(by=['tru','pred'])['pred'].count().sort_values()[-3:].index.get_level_values(1)\n",
    "# err.groupby(by=['tru','pred']).count()[-3:].get_level_values(0)\n",
    "# err.groupby(by=['tru','pred']).count()[-3:].get_level_values(1)"
   ]
  },
  {
   "cell_type": "code",
   "execution_count": 208,
   "metadata": {},
   "outputs": [
    {
     "data": {
      "text/plain": [
       "Float64Index([3.0, 4.0, 6.0], dtype='float64', name='tru')"
      ]
     },
     "execution_count": 208,
     "metadata": {},
     "output_type": "execute_result"
    }
   ],
   "source": [
    "err.groupby(by=['tru','pred'])['pred'].count().sort_values()[-3:].index.get_level_values(0)\n",
    "# [-3:].index.get_level_values(0)"
   ]
  },
  {
   "cell_type": "code",
   "execution_count": 211,
   "metadata": {},
   "outputs": [
    {
     "data": {
      "text/plain": [
       "tru  pred\n",
       "4.0  2.0      1\n",
       "5.0  3.0      3\n",
       "2.0  6.0     12\n",
       "     3.0     15\n",
       "3.0  6.0     17\n",
       "4.0  5.0     21\n",
       "6.0  4.0     28\n",
       "Name: pred, dtype: int64"
      ]
     },
     "execution_count": 211,
     "metadata": {},
     "output_type": "execute_result"
    }
   ],
   "source": [
    "err.groupby(by=['tru','pred'])['pred'].count().sort_values()\n",
    "# get the count and placement of the 3 most common mishaps\n"
   ]
  },
  {
   "cell_type": "code",
   "execution_count": null,
   "metadata": {},
   "outputs": [],
   "source": [
    "a=np.array(wiscore)"
   ]
  },
  {
   "cell_type": "code",
   "execution_count": null,
   "metadata": {},
   "outputs": [],
   "source": [
    "fig,ax=plt.subplots(1,figsize=(10,6))\n",
    "plt.suptitle('RF model accuracy on each witheld participant'.title(), size=28)\n",
    "plt.bar(np.arange(len(a)),\n",
    "        a[a.argsort()]*100)\n",
    "plt.style.use('ggplot')"
   ]
  },
  {
   "cell_type": "code",
   "execution_count": 78,
   "metadata": {},
   "outputs": [
    {
     "ename": "TypeError",
     "evalue": "cannot unpack non-iterable int object",
     "output_type": "error",
     "traceback": [
      "\u001b[0;31m---------------------------------------------------------------------------\u001b[0m",
      "\u001b[0;31mTypeError\u001b[0m                                 Traceback (most recent call last)",
      "\u001b[0;32m<ipython-input-78-7ddbfbcd5a1d>\u001b[0m in \u001b[0;36m<module>\u001b[0;34m\u001b[0m\n\u001b[0;32m----> 1\u001b[0;31m \u001b[0mx\u001b[0m\u001b[0;34m,\u001b[0m\u001b[0my\u001b[0m\u001b[0;34m=\u001b[0m\u001b[0;36m1\u001b[0m\u001b[0;34m\u001b[0m\u001b[0;34m\u001b[0m\u001b[0m\n\u001b[0m",
      "\u001b[0;31mTypeError\u001b[0m: cannot unpack non-iterable int object"
     ]
    }
   ],
   "source": [
    "x,y=1"
   ]
  },
  {
   "cell_type": "code",
   "execution_count": 58,
   "metadata": {
    "scrolled": true
   },
   "outputs": [
    {
     "data": {
      "text/plain": [
       "array(['0.5', '0.8928571428571429', '0.8988095238095238',\n",
       "       '0.8452380952380952', '0.9166666666666666', '0.8690476190476191',\n",
       "       '0.9285714285714286', '0.7559523809523809', '0.5476190476190477',\n",
       "       '0.8869047619047619', '0.7857142857142857', '0.9702380952380952',\n",
       "       '0.8809523809523809', '0.8333333333333334', '0.8809523809523809',\n",
       "       '0.9642857142857143', '0.9464285714285714', '0.9880952380952381',\n",
       "       '0.8452380952380952', '0.8809523809523809', '0.9523809523809523',\n",
       "       '0.8928571428571429', '0.8511904761904762', '0.9583333333333334',\n",
       "       '0.9821428571428571', '0.9583333333333334', '0.9523809523809523',\n",
       "       '0.8869047619047619', '0.9166666666666666', '0.9880952380952381',\n",
       "       '0.9226190476190477', '0.6726190476190477', '0.4226190476190476'],\n",
       "      dtype='<U18')"
      ]
     },
     "execution_count": 58,
     "metadata": {},
     "output_type": "execute_result"
    }
   ],
   "source": [
    "a[:,2][:,1]"
   ]
  },
  {
   "cell_type": "code",
   "execution_count": null,
   "metadata": {},
   "outputs": [],
   "source": []
  },
  {
   "cell_type": "code",
   "execution_count": 56,
   "metadata": {
    "scrolled": true
   },
   "outputs": [
    {
     "data": {
      "text/plain": [
       "[[('train score ', 1.0),\n",
       "  ('test score', 0.9054520358868184),\n",
       "  ('witheld score', 0.5)],\n",
       " [('train score ', 1.0),\n",
       "  ('test score', 0.8895790200138026),\n",
       "  ('witheld score', 0.8928571428571429)],\n",
       " [('train score ', 1.0),\n",
       "  ('test score', 0.9075224292615597),\n",
       "  ('witheld score', 0.8988095238095238)],\n",
       " [('train score ', 1.0),\n",
       "  ('test score', 0.9026915113871635),\n",
       "  ('witheld score', 0.8452380952380952)],\n",
       " [('train score ', 1.0),\n",
       "  ('test score', 0.9054520358868184),\n",
       "  ('witheld score', 0.9166666666666666)],\n",
       " [('train score ', 1.0),\n",
       "  ('test score', 0.9151138716356108),\n",
       "  ('witheld score', 0.8690476190476191)],\n",
       " [('train score ', 1.0),\n",
       "  ('test score', 0.8861283643892339),\n",
       "  ('witheld score', 0.9285714285714286)],\n",
       " [('train score ', 1.0),\n",
       "  ('test score', 0.9061421670117322),\n",
       "  ('witheld score', 0.7559523809523809)],\n",
       " [('train score ', 0.9993098688750862),\n",
       "  ('test score', 0.9164941338854382),\n",
       "  ('witheld score', 0.5476190476190477)],\n",
       " [('train score ', 1.0),\n",
       "  ('test score', 0.8978605935127675),\n",
       "  ('witheld score', 0.8869047619047619)],\n",
       " [('train score ', 1.0),\n",
       "  ('test score', 0.9006211180124224),\n",
       "  ('witheld score', 0.7857142857142857)],\n",
       " [('train score ', 1.0),\n",
       "  ('test score', 0.8964803312629399),\n",
       "  ('witheld score', 0.9702380952380952)],\n",
       " [('train score ', 0.9997699562916954),\n",
       "  ('test score', 0.8971704623878537),\n",
       "  ('witheld score', 0.8809523809523809)],\n",
       " [('train score ', 1.0),\n",
       "  ('test score', 0.9102829537612146),\n",
       "  ('witheld score', 0.8333333333333334)],\n",
       " [('train score ', 1.0),\n",
       "  ('test score', 0.9013112491373361),\n",
       "  ('witheld score', 0.8809523809523809)],\n",
       " [('train score ', 1.0),\n",
       "  ('test score', 0.9013112491373361),\n",
       "  ('witheld score', 0.9642857142857143)],\n",
       " [('train score ', 0.9997699562916954),\n",
       "  ('test score', 0.8985507246376812),\n",
       "  ('witheld score', 0.9464285714285714)],\n",
       " [('train score ', 1.0),\n",
       "  ('test score', 0.8971704623878537),\n",
       "  ('witheld score', 0.9880952380952381)],\n",
       " [('train score ', 1.0),\n",
       "  ('test score', 0.9095928226363009),\n",
       "  ('witheld score', 0.8452380952380952)],\n",
       " [('train score ', 1.0),\n",
       "  ('test score', 0.9026915113871635),\n",
       "  ('witheld score', 0.8809523809523809)],\n",
       " [('train score ', 1.0),\n",
       "  ('test score', 0.9089026915113871),\n",
       "  ('witheld score', 0.9523809523809523)],\n",
       " [('train score ', 1.0),\n",
       "  ('test score', 0.9006211180124224),\n",
       "  ('witheld score', 0.8928571428571429)],\n",
       " [('train score ', 1.0),\n",
       "  ('test score', 0.9123533471359558),\n",
       "  ('witheld score', 0.8511904761904762)],\n",
       " [('train score ', 1.0),\n",
       "  ('test score', 0.9054520358868184),\n",
       "  ('witheld score', 0.9583333333333334)],\n",
       " [('train score ', 0.9997699562916954),\n",
       "  ('test score', 0.9006211180124224),\n",
       "  ('witheld score', 0.9821428571428571)],\n",
       " [('train score ', 0.9997699562916954),\n",
       "  ('test score', 0.9026915113871635),\n",
       "  ('witheld score', 0.9583333333333334)],\n",
       " [('train score ', 1.0),\n",
       "  ('test score', 0.9006211180124224),\n",
       "  ('witheld score', 0.9523809523809523)],\n",
       " [('train score ', 1.0),\n",
       "  ('test score', 0.8930296756383713),\n",
       "  ('witheld score', 0.8869047619047619)],\n",
       " [('train score ', 0.9997699562916954),\n",
       "  ('test score', 0.9137336093857833),\n",
       "  ('witheld score', 0.9166666666666666)],\n",
       " [('train score ', 1.0),\n",
       "  ('test score', 0.8978605935127675),\n",
       "  ('witheld score', 0.9880952380952381)],\n",
       " [('train score ', 1.0),\n",
       "  ('test score', 0.8861283643892339),\n",
       "  ('witheld score', 0.9226190476190477)],\n",
       " [('train score ', 0.9997699562916954),\n",
       "  ('test score', 0.8985507246376812),\n",
       "  ('witheld score', 0.6726190476190477)],\n",
       " [('train score ', 1.0),\n",
       "  ('test score', 0.9013112491373361),\n",
       "  ('witheld score', 0.4226190476190476)]]"
      ]
     },
     "execution_count": 56,
     "metadata": {},
     "output_type": "execute_result"
    }
   ],
   "source": [
    "scores"
   ]
  },
  {
   "cell_type": "code",
   "execution_count": null,
   "metadata": {},
   "outputs": [],
   "source": [
    "aws for big data techniques\n",
    "spark for big data again2\n",
    "data not big enough up until then\n",
    "dimensionality reduction with big data makes sense\n",
    "\n"
   ]
  }
 ],
 "metadata": {
  "kernelspec": {
   "display_name": "Python 3",
   "language": "python",
   "name": "python3"
  },
  "language_info": {
   "codemirror_mode": {
    "name": "ipython",
    "version": 3
   },
   "file_extension": ".py",
   "mimetype": "text/x-python",
   "name": "python",
   "nbconvert_exporter": "python",
   "pygments_lexer": "ipython3",
   "version": "3.7.3"
  }
 },
 "nbformat": 4,
 "nbformat_minor": 2
}
